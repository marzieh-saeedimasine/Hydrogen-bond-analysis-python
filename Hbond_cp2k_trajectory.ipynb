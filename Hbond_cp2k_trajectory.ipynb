{
 "cells": [
  {
   "cell_type": "code",
   "execution_count": 1,
   "metadata": {},
   "outputs": [],
   "source": [
    "import sys \n",
    "import pandas as pd\n",
    "import numpy as np\n",
    "import itertools\n",
    "import math\n",
    "import warnings\n",
    "import threading\n",
    "import matplotlib.pyplot as plt\n",
    "import time\n",
    "from pprint import pprint"
   ]
  },
  {
   "cell_type": "code",
   "execution_count": 2,
   "metadata": {},
   "outputs": [],
   "source": [
    "\n",
    "'''Get inputs as group1, group2, Donor-Acceptor distance,angle cutoff from the user '''\n",
    "   \n",
    "natoms=int(input('Enter the number of atoms: '))\n",
    "\n",
    "group1=[]\n",
    "nums=[num for num in input(\"Enter list of atoms like 2,5,6-10, For all press Enter: \").strip().split(',')]\n",
    "for i in nums:\n",
    "     if i=='':\n",
    "         break\n",
    "     if \"-\" in i:\n",
    "         m=i.split('-')\n",
    "         for j in range(int(m[0]), int(m[1])+1,1):\n",
    "             group1.append(int(j))        \n",
    "     else:\n",
    "         group1.append(int(i))\n",
    "group1=sorted(group1)\n",
    "\n",
    " \n",
    "group2=[]\n",
    "nums=[num for num in input(\"Enter list of atoms like 2,5,6-10, For all press Enter: \").strip().split(',')]\n",
    "for i in nums:\n",
    "     if i=='':\n",
    "         break\n",
    "     if \"-\" in i:\n",
    "         m=i.split('-')\n",
    "         for j in range(int(m[0]), int(m[1])+1,1):\n",
    "             group2.append(int(j))        \n",
    "     else:\n",
    "         group2.append(int(i))\n",
    "group2=sorted(group2)\n",
    "\n",
    "      \n",
    "cutoff_distance=float(input('Enter the Donor-Acceptor distance in Angstrom like 3.5: '))\n",
    "cutoff_angle=float(input('Enter the angle cutoff in degree like 30: '))\n"
   ]
  },
  {
   "cell_type": "code",
   "execution_count": 3,
   "metadata": {},
   "outputs": [],
   "source": [
    "def read_trajectory(filename,frame=None,selection1=None,selection2=None):\n",
    "         ''' read the file, skips first two lines and create atom_list, and atom_info list'''\n",
    "         with open (filename) as tf:\n",
    "            for line in itertools.islice(tf, frame*(natoms+2), (frame+1)*(natoms+1)):\n",
    "                tf.readline()\n",
    "                tl=pd.read_csv(tf,sep='\\s+', header=None, nrows=natoms,names=\"element x y z\".split())\n",
    "                if selection1 and selection2:\n",
    "                    selection1=[(tl[\"element\"][s],tl[\"x\"][s],tl[\"y\"][s],tl[\"z\"][s]) for s in selection1]\n",
    "                    selection2=[(tl[\"element\"][s],tl[\"x\"][s],tl[\"y\"][s],tl[\"z\"][s]) for s in selection2]\n",
    "                else:\n",
    "                    selection1=selection2=list(zip(tl[\"element\"],tl[\"x\"],tl[\"y\"],tl[\"z\"])) \n",
    "                tot=list(zip(tl[\"element\"],tl[\"x\"],tl[\"y\"],tl[\"z\"]))\n",
    "                return(selection1,selection2,tot)  "
   ]
  },
  {
   "cell_type": "code",
   "execution_count": 5,
   "metadata": {},
   "outputs": [],
   "source": [
    "def atom_groups(selection1,selection2):\n",
    "        h_list=[]\n",
    "        donor_list=[]\n",
    "        acceptor_list=[]\n",
    "        select=['O','N','F','Zn']       \n",
    "\n",
    "        '''Find D-H (Donor and hydrogen) groups''' #bond={'NH': 0.99,'OH': 0.98} \n",
    "        for i  in range(len(selection1)):\n",
    "            if selection1[i][0]=='H':\n",
    "                h_list.append(i)\n",
    "                \n",
    "        for i  in range(len(selection1)):   \n",
    "              if selection1[i][0] in select:\n",
    "                    for j in h_list:\n",
    "                        if round(math.dist((selection1[i][1],selection1[i][2],selection1[i][3]),\n",
    "                                           (selection1[j][1],selection1[j][2],selection1[j][3])),1)<=1.0:\n",
    "                            donor_list.append((i,j)) \n",
    "                    \n",
    "        '''Find Acceptor groups''' \n",
    "        for i  in range(len(selection2)):\n",
    "              if selection2[i][0] in select:\n",
    "                    acceptor_list.append(i)\n",
    "    #   print(len(donor_list))\n",
    "     #   print(len(acceptor_list))\n",
    "        return(donor_list,acceptor_list) "
   ]
  },
  {
   "cell_type": "code",
   "execution_count": 6,
   "metadata": {},
   "outputs": [],
   "source": [
    "def angle(i,j,k):\n",
    "    '''calcualte angle between i,j,k\n",
    "    >>> angle((1,0,0),(0,0,0),(-1,0,0))  \n",
    "    180.0    \n",
    "    '''\n",
    "    a = np.array(i)\n",
    "    b = np.array(j)\n",
    "    c = np.array(k)\n",
    "    f=b-a\n",
    "    e=b-c\n",
    "    cosine_angle = np.dot(f, e) / (np.linalg.norm(f) * np.linalg.norm(e))\n",
    "    warnings.simplefilter(\"ignore\")\n",
    "    angle = np.degrees(np.arccos(cosine_angle))\n",
    "    return(angle)\n",
    "#import doctest\n",
    "#doctest.testmod()"
   ]
  },
  {
   "cell_type": "code",
   "execution_count": 7,
   "metadata": {},
   "outputs": [],
   "source": [
    "def hbond(traj_input,frame,group1,group2):\n",
    "         data=read_trajectory(traj_input,frame,group1,group2)\n",
    "         selection1=data[0]\n",
    "         selection2=data[1]\n",
    "         tot=data[2]\n",
    "         data2=atom_groups(selection1,selection2)\n",
    "         donor_list=data2[0]\n",
    "        # print(donor_list)\n",
    "         acceptor_list=data2[1]\n",
    "        # print(acceptor_list)\n",
    "         hbond=0  \n",
    "         for (d,h) in donor_list:\n",
    "             for a in acceptor_list:\n",
    "                 distance=math.dist((selection2[a][1],selection2[a][2],selection2[a][3]),(selection1[d][1],selection1[d][2],selection1[d][3]))\n",
    "                 angles=angle((selection2[a][1],selection2[a][2],selection2[a][3]),(selection1[d][1],selection1[d][2],selection1[d][3]),(selection1[h][1],selection1[h][2],selection1[h][3]))      \n",
    "                 if round(distance,2)<= cutoff_distance:    \n",
    "                       if round(angles,2)<=cutoff_angle:\n",
    "                         #   print((tot.index(selection2[a]),tot.index(selection1[d]),tot.index(selection1[h])), distance, angles)\n",
    "                            hbond +=1\n",
    "         return((frame,hbond))            "
   ]
  },
  {
   "cell_type": "code",
   "execution_count": 10,
   "metadata": {},
   "outputs": [
    {
     "ename": "NameError",
     "evalue": "name 'x_val' is not defined",
     "output_type": "error",
     "traceback": [
      "\u001b[0;31m---------------------------------------------------------------------------\u001b[0m",
      "\u001b[0;31mNameError\u001b[0m                                 Traceback (most recent call last)",
      "\u001b[0;32m<ipython-input-10-71a126d44076>\u001b[0m in \u001b[0;36m<module>\u001b[0;34m\u001b[0m\n\u001b[1;32m     11\u001b[0m \u001b[0;34m\u001b[0m\u001b[0m\n\u001b[1;32m     12\u001b[0m \u001b[0;31m# make a plot of Potential energy vs simulation steps\u001b[0m\u001b[0;34m\u001b[0m\u001b[0;34m\u001b[0m\u001b[0;34m\u001b[0m\u001b[0m\n\u001b[0;32m---> 13\u001b[0;31m plt.plot(x_val,y_val, marker='.', color='black', linestyle='-', lw=1.5, zorder = 500,\n\u001b[0m\u001b[1;32m     14\u001b[0m          markeredgewidth=1, alpha=0.92, label='Mycode')\n\u001b[1;32m     15\u001b[0m plt.plot(frame,hbond, marker='.', color='red', linestyle='-', lw=1.5, zorder = 500,\n",
      "\u001b[0;31mNameError\u001b[0m: name 'x_val' is not defined"
     ]
    },
    {
     "data": {
      "text/plain": [
       "<Figure size 518.4x432 with 0 Axes>"
      ]
     },
     "metadata": {},
     "output_type": "display_data"
    }
   ],
   "source": [
    "import pylab\n",
    "from pylab import *\n",
    "fig = plt.figure(figsize=(1.2*6,6)) \n",
    "\n",
    "\n",
    "data01 = np.genfromtxt((r for r in open('vmd2.dat') if not r[0] in ('@', '#', '&')))\n",
    "frame = data01.T[0]  # time in ps\n",
    "hbond = data01.T[1]\n",
    "\n",
    "\n",
    "\n",
    "# make a plot of Potential energy vs simulation steps\n",
    "plt.plot(x_val,y_val, marker='.', color='black', linestyle='-', lw=1.5, zorder = 500,\n",
    "         markeredgewidth=1, alpha=0.92, label='Mycode')\n",
    "plt.plot(frame,hbond, marker='.', color='red', linestyle='-', lw=1.5, zorder = 500,\n",
    "         markeredgewidth=1, alpha=0.92, label='VMD')\n",
    "\n",
    "\n",
    "xlabel('Frames', size=15)\n",
    "ylabel('Hbond Number', size=15)\n",
    "pylab.yticks(fontsize=12)\n",
    "pylab.xticks(fontsize=12)\n",
    "\n",
    "\n",
    "plt.legend(loc='best', ncol=1, columnspacing=2, handletextpad=0.5,\n",
    "           fancybox=True, numpoints=1, markerscale=0.75, fontsize=12).set_alpha(0.5)\n",
    "\n",
    "\n",
    "pylab.xlim([0,1000])\n",
    "\n",
    "\n",
    "ax = fig.add_subplot(111)\n",
    "\n",
    "for axis in ['top','bottom','left','right']:\n",
    "    ax.spines[axis].set_linewidth(1.5)\n",
    "\n",
    "pylab.savefig('hbond.png', format='png', bbox_inches='tight')\n",
    "plt.show()"
   ]
  },
  {
   "cell_type": "code",
   "execution_count": 10,
   "metadata": {},
   "outputs": [],
   "source": [
    "hbond_n=[]\n",
    "def main(traj=None,b=None,e=None):\n",
    "    traj_input=traj\n",
    "    b=int(b)\n",
    "    e=int(e)\n",
    " #   out_file = open(\"myfile.csv\", \"w\")\n",
    "\n",
    "    for i in range (b,e):\n",
    "        frame=i\n",
    "        n=hbond(traj_input,frame,group1,group2)\n",
    "        hbond_n.append(n)"
   ]
  },
  {
   "cell_type": "code",
   "execution_count": 13,
   "metadata": {},
   "outputs": [
    {
     "data": {
      "image/png": "[encoded data removed]",
      "text/plain": [
       "<Figure size 432x288 with 1 Axes>"
      ]
     },
     "metadata": {
      "needs_background": "light"
     },
     "output_type": "display_data"
    },
    {
     "name": "stdout",
     "output_type": "stream",
     "text": [
      "CPU times: user 15.2 s, sys: 0 ns, total: 15.2 s\n",
      "Wall time: 15.1 s\n"
     ]
    }
   ],
   "source": [
    "%%time    \n",
    "main('surface-1-pos-1.xyz',0,10) \n",
    "x_val=[x[0] for x in hbond_n]\n",
    "y_val=[x[1] for x in hbond_n]\n",
    "fig=plt.plot(x_val,y_val)\n",
    "plt.show()"
   ]
  },
  {
   "cell_type": "code",
   "execution_count": 31,
   "metadata": {},
   "outputs": [],
   "source": [
    "import threading\n",
    "from multiprocessing import Queue\n",
    "hbond_n=[]\n",
    "threads = []\n",
    "que = Queue()\n",
    "def threads(traj=None,b=None,e=None):\n",
    "    traj_input=traj\n",
    "    b=int(b)\n",
    "    e=int(e)\n",
    "    for i in range (b,e):\n",
    "        frame=i\n",
    "        t = threading.Thread(target=lambda q, arg1: q.put(hbond('surface-1-pos-1.xyz',frame,group1,group2)),\n",
    "                             args=(que, frame))\n",
    "        \n",
    "        threads.append(t)\n",
    "        t.start()\n",
    "    for t in threads:\n",
    "        t.join() \n",
    "        \n",
    "    while not que.empty():\n",
    "        hbond_n.append (que.get())\n"
   ]
  },
  {
   "cell_type": "code",
   "execution_count": 30,
   "metadata": {},
   "outputs": [
    {
     "data": {
      "image/png": "[encoded data removed]",
      "text/plain": [
       "<Figure size 432x288 with 1 Axes>"
      ]
     },
     "metadata": {
      "needs_background": "light"
     },
     "output_type": "display_data"
    },
    {
     "name": "stdout",
     "output_type": "stream",
     "text": [
      "CPU times: user 26.9 s, sys: 6.26 s, total: 33.2 s\n",
      "Wall time: 23.7 s\n"
     ]
    }
   ],
   "source": [
    "%%time    \n",
    "threads('surface-1-pos-1.xyz',0,10)\n",
    "hbond_n.sort()\n",
    "fig=plt.plot([x[0] for x in hbond_n],[x[1] for x in hbond_n])\n",
    "plt.show()"
   ]
  },
  {
   "cell_type": "code",
   "execution_count": 32,
   "metadata": {},
   "outputs": [],
   "source": [
    "import multiprocessing as mp\n",
    "hbond_n=[]\n",
    "processes = []\n",
    "que = mp.Queue()\n",
    "def multiprocess(traj=None,b=None,e=None):\n",
    "    traj_input=traj\n",
    "    b=int(b)\n",
    "    e=int(e)\n",
    "    for i in range (b,e):\n",
    "        frame=i\n",
    "        p = mp.Process(target=lambda q, arg1: q.put(hbond('surface-1-pos-1.xyz',frame,group1,group2)),\n",
    "                             args=(que, frame))\n",
    "        processes.append(p)\n",
    "        p.start()\n",
    "    for p in processes:\n",
    "        p.join() \n",
    "        \n",
    "    while not que.empty():\n",
    "        hbond_n.append (que.get())"
   ]
  },
  {
   "cell_type": "code",
   "execution_count": 33,
   "metadata": {},
   "outputs": [
    {
     "data": {
      "image/png": "[encoded data removed]",
      "text/plain": [
       "<Figure size 432x288 with 1 Axes>"
      ]
     },
     "metadata": {
      "needs_background": "light"
     },
     "output_type": "display_data"
    },
    {
     "name": "stdout",
     "output_type": "stream",
     "text": [
      "CPU times: user 161 ms, sys: 154 ms, total: 315 ms\n",
      "Wall time: 22.9 s\n"
     ]
    }
   ],
   "source": [
    "%%time    \n",
    "multiprocess('surface-1-pos-1.xyz',0,100)\n",
    "hbond_n.sort()\n",
    "fig=plt.plot([x[0] for x in hbond_n],[x[1] for x in hbond_n])\n",
    "plt.show()"
   ]
  },
  {
   "cell_type": "code",
   "execution_count": null,
   "metadata": {},
   "outputs": [],
   "source": []
  }
 ],
 "metadata": {
  "kernelspec": {
   "display_name": "Python 3",
   "language": "python",
   "name": "python3"
  },
  "language_info": {
   "codemirror_mode": {
    "name": "ipython",
    "version": 3
   },
   "file_extension": ".py",
   "mimetype": "text/x-python",
   "name": "python",
   "nbconvert_exporter": "python",
   "pygments_lexer": "ipython3",
   "version": "3.11.7"
  }
 },
 "nbformat": 4,
 "nbformat_minor": 4
}
